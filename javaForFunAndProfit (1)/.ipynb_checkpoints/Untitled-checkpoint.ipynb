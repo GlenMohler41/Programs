{
 "cells": [
  {
   "cell_type": "code",
   "execution_count": 13,
   "metadata": {},
   "outputs": [],
   "source": [
    "\n",
    "\n",
    "public class MontyHall {\n",
    "\n",
    " \n",
    "\n",
    "    public static double montyRuns(int numruns){\n",
    "     Random ran = new Random();\n",
    "     double talley=0;\n",
    "        for (int i=1;i<=numruns;i++){   \n",
    "      int y= montyHall(ran.nextInt(3)+1);\n",
    "        talley+=y;            \n",
    "         \n",
    "     }\n",
    "        return (talley/numruns);\n",
    "    }\n",
    "    \n",
    "    \n",
    "\n",
    "  public static void main(String[] args){\n",
    "    double finalverdict;\n",
    "    finalverdict =montyRuns(200);\n",
    "    System.out.println(finalverdict);\n",
    "  }\n",
    "\n",
    "}"
   ]
  },
  {
   "cell_type": "code",
   "execution_count": 16,
   "metadata": {},
   "outputs": [
    {
     "name": "stdout",
     "output_type": "stream",
     "text": [
      "works\n"
     ]
    }
   ],
   "source": [
    "import java.util.Random;\n",
    "System.out.println(\"works\");"
   ]
  },
  {
   "cell_type": "code",
   "execution_count": 93,
   "metadata": {},
   "outputs": [
    {
     "ename": "CompilationException",
     "evalue": "",
     "output_type": "error",
     "traceback": [
      "\u001b[1m\u001b[30m|   \u001b[1m\u001b[30m    while (\u001b[0m\u001b[1m\u001b[30m\u001b[41mreveal\u001b[0m\u001b[1m\u001b[30m==guess123 || reveal == actual){\u001b[0m",
      "\u001b[1m\u001b[31mvariable reveal might not have been initialized\u001b[0m",
      ""
     ]
    }
   ],
   "source": [
    " public int montyHall(int guess123){\n",
    "      Random ran = new Random();\n",
    "      final int actual = ran.nextInt(2)+1;\n",
    "    int changeguess=ran.nextInt(2);\n",
    "    int reveal;\n",
    "    while (reveal==guess123 || reveal == actual){\n",
    "        reveal = ran.nextInt(3)+1;\n",
    "        System.out.print(\"reveal\");\n",
    "        System.out.println(reveal);   \n",
    "    }\n",
    "    if (changeguess==1){ \n",
    "    System.out.println(guess123);\n",
    "    guess123=(6-reveal-guess123);\n",
    "    System.out.println(guess123);\n",
    "    System.out.println(reveal);    \n",
    "    }\n",
    "    if (guess123==actual){\n",
    "        return 1;\n",
    "    } else {\n",
    "        return 0;       \n",
    "  }\n",
    "  }\n",
    "System.out.println(\"works\");\n",
    "System.out.println(montyHall(2));"
   ]
  },
  {
   "cell_type": "code",
   "execution_count": 67,
   "metadata": {},
   "outputs": [
    {
     "name": "stdout",
     "output_type": "stream",
     "text": [
      "0\n"
     ]
    }
   ],
   "source": [
    "System.out.println(montyHall(2));"
   ]
  },
  {
   "cell_type": "code",
   "execution_count": null,
   "metadata": {},
   "outputs": [],
   "source": [
    "Random ran = new Random();\n",
    "for (int i=1;1<=10;i++){\n",
    "    x=ran.nextInt(3);\n",
    "    System.out.println(x);\n",
    "}\n",
    "System.out.println(\"works\");"
   ]
  }
 ],
 "metadata": {
  "kernelspec": {
   "display_name": "Java",
   "language": "java",
   "name": "java"
  },
  "language_info": {
   "codemirror_mode": "java",
   "file_extension": ".java",
   "mimetype": "text/x-java-source",
   "name": "Java",
   "pygments_lexer": "java",
   "version": "11.0.1+13-LTS"
  }
 },
 "nbformat": 4,
 "nbformat_minor": 2
}
